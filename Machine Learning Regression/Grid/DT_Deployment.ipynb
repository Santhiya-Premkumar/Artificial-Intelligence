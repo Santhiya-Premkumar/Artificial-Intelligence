{
 "cells": [
  {
   "cell_type": "code",
   "execution_count": 1,
   "id": "f1ec0fa7-eca6-462a-86aa-37b076a21d43",
   "metadata": {},
   "outputs": [],
   "source": [
    "import pandas as pd\n",
    "import matplotlib.pyplot as plt"
   ]
  },
  {
   "cell_type": "code",
   "execution_count": 2,
   "id": "debc1470-0bb9-45e0-8982-7cb10c5edb51",
   "metadata": {},
   "outputs": [],
   "source": [
    "#Read CSV\n",
    "dataset=pd.read_csv(\"insurance_pre.csv\")"
   ]
  },
  {
   "cell_type": "code",
   "execution_count": 3,
   "id": "6ab5c2b1-679a-4126-b1e5-635f7c3e1a22",
   "metadata": {},
   "outputs": [],
   "source": [
    "#Get Dummies\n",
    "dataset=pd.get_dummies(dataset,dtype=int,drop_first=True)\n",
    "#independent\n",
    "independent=dataset[['age', 'bmi', 'children','sex_male', 'smoker_yes']]\n",
    "#dependent\n",
    "dependent=dataset[['charges']]"
   ]
  },
  {
   "cell_type": "code",
   "execution_count": 9,
   "id": "702bf077-7880-4755-a408-1c6458ce06b7",
   "metadata": {},
   "outputs": [],
   "source": [
    "#Standarddization\n",
    "from sklearn.preprocessing import StandardScaler\n",
    "sc=StandardScaler()\n",
    "independent= sc.fit_transform(independent)\n",
    "#  (Xi-Xmean)/Xstd"
   ]
  },
  {
   "cell_type": "code",
   "execution_count": 10,
   "id": "cf9dc2ed-3425-4acd-b1fc-ed5bfc30c536",
   "metadata": {},
   "outputs": [],
   "source": [
    "# model creation not rquired in Deployment Step"
   ]
  },
  {
   "cell_type": "code",
   "execution_count": 11,
   "id": "626058dd-f433-4e4a-9a26-c8df6b54f475",
   "metadata": {},
   "outputs": [
    {
     "name": "stdin",
     "output_type": "stream",
     "text": [
      "Age: 12\n",
      "BMI: 345\n",
      "Children: 0\n",
      "Sex Male 0 or 1: 1\n",
      "Smoker Yes 0 or 1: 1\n"
     ]
    },
    {
     "data": {
      "text/plain": [
       "array([[1.20000000e+01, 3.45000000e+02, 5.57600802e-17, 1.00000000e+00,\n",
       "        1.00000000e+00]])"
      ]
     },
     "execution_count": 11,
     "metadata": {},
     "output_type": "execute_result"
    }
   ],
   "source": [
    "age_input=float(input(\"Age:\"))\n",
    "bmi_input=float(input(\"BMI:\"))\n",
    "children_input=float(input(\"Children:\"))\n",
    "sex_male_input=int(input(\"Sex Male 0 or 1:\"))\n",
    "smoker_yes_input=int(input(\"Smoker Yes 0 or 1:\"))\n",
    "preinput = sc.transform([[age_input,bmi_input,children_input,sex_male_input,smoker_yes_input]])\n",
    "preinput"
   ]
  },
  {
   "cell_type": "code",
   "execution_count": 16,
   "id": "83b24afe-86ee-4a80-abef-2c77c915c611",
   "metadata": {},
   "outputs": [
    {
     "name": "stdout",
     "output_type": "stream",
     "text": [
      "Future_Prediction=[48675.5177]\n"
     ]
    }
   ],
   "source": [
    "import pickle\n",
    "loaded_model=pickle.load(open(\"finalized_model_DT.sav\",'rb'))\n",
    "Future_Prediction=loaded_model.predict(preinput)\n",
    "print(\"Future_Prediction={}\".format(Future_Prediction))"
   ]
  },
  {
   "cell_type": "code",
   "execution_count": null,
   "id": "1c29e878-d30c-44c5-aa2f-b7f654861055",
   "metadata": {},
   "outputs": [],
   "source": []
  },
  {
   "cell_type": "code",
   "execution_count": null,
   "id": "0b3a8f75-6955-4299-9621-e0465f5f68b3",
   "metadata": {},
   "outputs": [],
   "source": []
  }
 ],
 "metadata": {
  "kernelspec": {
   "display_name": "Python 3 (ipykernel)",
   "language": "python",
   "name": "python3"
  },
  "language_info": {
   "codemirror_mode": {
    "name": "ipython",
    "version": 3
   },
   "file_extension": ".py",
   "mimetype": "text/x-python",
   "name": "python",
   "nbconvert_exporter": "python",
   "pygments_lexer": "ipython3",
   "version": "3.11.7"
  }
 },
 "nbformat": 4,
 "nbformat_minor": 5
}
