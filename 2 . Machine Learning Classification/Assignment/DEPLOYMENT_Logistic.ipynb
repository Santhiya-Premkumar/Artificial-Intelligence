{
 "cells": [
  {
   "cell_type": "code",
   "execution_count": 1,
   "id": "564c3880-c6ff-4808-aa17-8fc2160db123",
   "metadata": {},
   "outputs": [],
   "source": [
    "import pandas as pd \n",
    "import pickle"
   ]
  },
  {
   "cell_type": "code",
   "execution_count": 2,
   "id": "a3a01612-f979-4291-91aa-0f0753216b48",
   "metadata": {},
   "outputs": [
    {
     "name": "stderr",
     "output_type": "stream",
     "text": [
      "C:\\Users\\santhiya\\AppData\\Local\\anaconda3\\Lib\\site-packages\\sklearn\\base.py:439: UserWarning: X does not have valid feature names, but StandardScaler was fitted with feature names\n",
      "  warnings.warn(\n"
     ]
    },
    {
     "data": {
      "text/plain": [
       "array([[-1.04452180e+00, -4.68876811e-02,  4.31675741e+01,\n",
       "         9.85032393e+01, -9.64824402e-01, -1.16253954e-01,\n",
       "         8.55517394e+00, -1.19331973e+01,  2.08206603e+02,\n",
       "         3.16306070e+01, -1.84633947e+00, -3.45706306e+00,\n",
       "         3.59258840e+01,  1.33150900e+02,  1.32661744e+02,\n",
       "         1.78260893e+02,  3.16486324e+02,  2.99722094e+01,\n",
       "         2.27334952e+01,  2.91547595e+00, -2.35702260e-01,\n",
       "         1.35269628e+00, -7.39264248e-01,  3.41565026e+00,\n",
       "        -1.93649167e+00,  1.91485422e+00, -4.45194562e-01]])"
      ]
     },
     "execution_count": 2,
     "metadata": {},
     "output_type": "execute_result"
    }
   ],
   "source": [
    "scx=pickle.load(open('Standard_Scaler_Classi_Logistic_Input.pkl','rb'))\n",
    "preinput=scx.transform([[35, 76, 54, 98, 76.00, 54, 54, 11.9, 467.9, 98.00, 24,18.9, 34, 53, 56, 67, 43, 11, 10,1, 0, 1, 0, 1,0, 1, 0]])\n",
    "preinput"
   ]
  },
  {
   "cell_type": "code",
   "execution_count": 3,
   "id": "f7402a01-31e1-4908-a095-b4bb77732885",
   "metadata": {},
   "outputs": [
    {
     "data": {
      "text/plain": [
       "array([1])"
      ]
     },
     "execution_count": 3,
     "metadata": {},
     "output_type": "execute_result"
    }
   ],
   "source": [
    "loaded_model=pickle.load(open(\"finalized_model_Logistic_Classification.sav\",'rb'))\n",
    "result=loaded_model.predict(preinput)\n",
    "result"
   ]
  },
  {
   "cell_type": "code",
   "execution_count": 4,
   "id": "354cff2a-4ffd-4874-b2c7-067442c55edc",
   "metadata": {},
   "outputs": [
    {
     "data": {
      "text/plain": [
       "array([1])"
      ]
     },
     "execution_count": 4,
     "metadata": {},
     "output_type": "execute_result"
    }
   ],
   "source": [
    "result"
   ]
  },
  {
   "cell_type": "code",
   "execution_count": null,
   "id": "29d397ce-9bad-42f6-bb72-3e679120841b",
   "metadata": {},
   "outputs": [],
   "source": []
  }
 ],
 "metadata": {
  "kernelspec": {
   "display_name": "Python 3 (ipykernel)",
   "language": "python",
   "name": "python3"
  },
  "language_info": {
   "codemirror_mode": {
    "name": "ipython",
    "version": 3
   },
   "file_extension": ".py",
   "mimetype": "text/x-python",
   "name": "python",
   "nbconvert_exporter": "python",
   "pygments_lexer": "ipython3",
   "version": "3.11.7"
  }
 },
 "nbformat": 4,
 "nbformat_minor": 5
}
