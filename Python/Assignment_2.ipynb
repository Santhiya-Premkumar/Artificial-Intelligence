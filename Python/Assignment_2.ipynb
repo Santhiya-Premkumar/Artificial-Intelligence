{
 "cells": [
  {
   "cell_type": "code",
   "execution_count": 1,
   "id": "c8ebad29-67e4-4107-bf71-5299b48a8d76",
   "metadata": {},
   "outputs": [
    {
     "name": "stdout",
     "output_type": "stream",
     "text": [
      "0\n",
      "1\n",
      "2\n",
      "3\n",
      "4\n",
      "5\n",
      "6\n",
      "7\n",
      "8\n",
      "9\n",
      "10\n",
      "11\n",
      "12\n",
      "13\n",
      "14\n",
      "15\n",
      "16\n",
      "17\n",
      "18\n",
      "19\n"
     ]
    }
   ],
   "source": [
    "# Assignment No: 2\n",
    "# print 0 to 20 by using range\n",
    "#Range(0 to 20)\n",
    "for num in range(0,20):\n",
    "    print (num)"
   ]
  },
  {
   "cell_type": "code",
   "execution_count": 19,
   "id": "dfa8e09f-73c2-4e8a-b9eb-9cb8003824b4",
   "metadata": {},
   "outputs": [
    {
     "name": "stdout",
     "output_type": "stream",
     "text": [
      "10 11 12 13 14 15 16 17 18 19 "
     ]
    }
   ],
   "source": [
    "# print range 10 to 20\n",
    "for value in range(10,20):\n",
    "    print(value,end=' ')"
   ]
  },
  {
   "cell_type": "code",
   "execution_count": 20,
   "id": "136764e2-ac3f-44e3-b2c0-6ee1daf5f027",
   "metadata": {},
   "outputs": [
    {
     "name": "stdout",
     "output_type": "stream",
     "text": [
      "[10, 20, 14, 55, 43, 87, 76]\n",
      "Number of item in the List2:\n",
      " 7\n"
     ]
    }
   ],
   "source": [
    " # Print number of items in the list by using 'len'\n",
    "Numbers = [10, 20, 14, 55, 43, 87, 76]\n",
    "print(Numbers)\n",
    "length=len(Numbers)\n",
    "print(\"Number of item in the List2:\\n\",length) "
   ]
  },
  {
   "cell_type": "code",
   "execution_count": 4,
   "id": "4882128e-a23a-46bc-ace6-cca0294ce618",
   "metadata": {},
   "outputs": [
    {
     "name": "stdout",
     "output_type": "stream",
     "text": [
      "10\n",
      "12\n",
      "14\n",
      "16\n",
      "18\n"
     ]
    }
   ],
   "source": [
    "#Range(10 to 20) with 2 gap\n",
    "for num1 in range(10,20,2):\n",
    "    print(num1)"
   ]
  },
  {
   "cell_type": "code",
   "execution_count": 5,
   "id": "443f8a97-333e-4922-ae57-7fe2d373816e",
   "metadata": {},
   "outputs": [
    {
     "name": "stdout",
     "output_type": "stream",
     "text": [
      "Artificial Intelligence\n",
      "A\n",
      "r\n",
      "t\n",
      "i\n",
      "f\n",
      "i\n",
      "c\n",
      "i\n",
      "a\n",
      "l\n",
      " \n",
      "I\n",
      "n\n",
      "t\n",
      "e\n",
      "l\n",
      "l\n",
      "i\n",
      "g\n",
      "e\n",
      "n\n",
      "c\n",
      "e\n"
     ]
    }
   ],
   "source": [
    "name = \"Artificial Intelligence\"\n",
    "print(name)\n",
    "for output in name:\n",
    "    print(output)"
   ]
  },
  {
   "cell_type": "code",
   "execution_count": 21,
   "id": "a1c00321-57c7-4d4f-93a8-a43a992f1445",
   "metadata": {},
   "outputs": [
    {
     "name": "stdin",
     "output_type": "stream",
     "text": [
      "Enter Name: santhiya\n"
     ]
    },
    {
     "name": "stdout",
     "output_type": "stream",
     "text": [
      "s\n",
      "a\n",
      "n\n",
      "t\n",
      "h\n",
      "i\n",
      "y\n",
      "a\n"
     ]
    }
   ],
   "source": [
    "# User Giving Input\n",
    "name =input(\"Enter Name:\")\n",
    "for output in name:\n",
    "    print(output)"
   ]
  },
  {
   "cell_type": "code",
   "execution_count": 7,
   "id": "37baafd5-2776-4ed4-b95c-8d00accdb338",
   "metadata": {},
   "outputs": [
    {
     "name": "stdout",
     "output_type": "stream",
     "text": [
      "-Your Name-\n",
      "-Your Age-\n",
      "-Your Profession-\n"
     ]
    }
   ],
   "source": [
    "print(\"-Your Name-\")\n",
    "print(\"-Your Age-\")\n",
    "print(\"-Your Profession-\")"
   ]
  },
  {
   "cell_type": "code",
   "execution_count": 17,
   "id": "29e40638-56bf-4a8b-aecf-7a5e0063cb4f",
   "metadata": {},
   "outputs": [
    {
     "name": "stdout",
     "output_type": "stream",
     "text": [
      "-Your Name-\n",
      "-Your Age-\n",
      "-Your Profession-\n"
     ]
    }
   ],
   "source": [
    "list= [\"-Your Name-\",\"-Your Age-\",\"-Your Profession-\"]\n",
    "for alpabet in list:\n",
    "    print(alpabet)"
   ]
  },
  {
   "cell_type": "code",
   "execution_count": 8,
   "id": "b71b18b5-0c43-46c4-9e9a-1ffc6741b78d",
   "metadata": {},
   "outputs": [
    {
     "name": "stdout",
     "output_type": "stream",
     "text": [
      "(1, 'Welcome', 2, 'Hope')\n"
     ]
    }
   ],
   "source": [
    "# Refer this link : https://www.geeksforgeeks.org/python-tuples/\n",
    "# Print yhis mixered datatype using Tuples\n",
    "# Creating a Tuple\n",
    "# with Mixed Datatype\n",
    "Tuple1 = (1, 'Welcome', 2, 'Hope')\n",
    "print(Tuple1)"
   ]
  },
  {
   "cell_type": "code",
   "execution_count": 9,
   "id": "2c9de715-5b12-4620-a6cf-2f7906a23552",
   "metadata": {},
   "outputs": [
    {
     "name": "stdout",
     "output_type": "stream",
     "text": [
      "((0, 1, 2, 3), ('python', 'HOPE'))\n"
     ]
    }
   ],
   "source": [
    "# Refer this link : https://www.geeksforgeeks.org/python-tuples/\n",
    "# Tuple1 = (0, 1, 2, 3)\n",
    "Tuple1 = (0, 1, 2, 3)\n",
    "Tuple2 = ('python', 'HOPE')\n",
    "Tuple3 = (Tuple1,Tuple2)\n",
    "print(Tuple3)"
   ]
  },
  {
   "cell_type": "code",
   "execution_count": 24,
   "id": "81278645-7fb8-45f8-a6cd-f8d913ebdf00",
   "metadata": {},
   "outputs": [
    {
     "name": "stdout",
     "output_type": "stream",
     "text": [
      "(20, 10, 16, 19, 25, 1, 276, 188)\n",
      "19 is odd\n",
      "25 is odd\n",
      "1 is odd\n"
     ]
    }
   ],
   "source": [
    "# print Odd Numbers in the list\n",
    "list_2 = (20,10,16,19,25,1,276,188)\n",
    "print(list_2)\n",
    "for x in list_2:\n",
    "    if(x%2==1):\n",
    "        print(x,\"is odd\")\n",
    "   # else:\n",
    "     #  print(x,\"is even\")\n"
   ]
  },
  {
   "cell_type": "code",
   "execution_count": 25,
   "id": "be6efb54-eab4-4491-bb9f-8720274e18b0",
   "metadata": {},
   "outputs": [
    {
     "name": "stdout",
     "output_type": "stream",
     "text": [
      "[20, 10, 16, 19, 25, 1, 276, 188]\n",
      "20 is Even\n",
      "10 is Even\n",
      "16 is Even\n",
      "276 is Even\n",
      "188 is Even\n"
     ]
    }
   ],
   "source": [
    "# print Even numbers in the list\n",
    "list_2 = [20,10,16,19,25,1,276,188]\n",
    "print(list_2)\n",
    "for x in list_2:\n",
    "    if(x%2==0):\n",
    "        print(x,\"is Even\")\n",
    "    #else:\n",
    "       #print(x,\"is Odd\")"
   ]
  },
  {
   "cell_type": "code",
   "execution_count": null,
   "id": "f7d34986-7e03-4821-b337-71b5c3a7ae0b",
   "metadata": {},
   "outputs": [],
   "source": []
  }
 ],
 "metadata": {
  "kernelspec": {
   "display_name": "Python 3 (ipykernel)",
   "language": "python",
   "name": "python3"
  },
  "language_info": {
   "codemirror_mode": {
    "name": "ipython",
    "version": 3
   },
   "file_extension": ".py",
   "mimetype": "text/x-python",
   "name": "python",
   "nbconvert_exporter": "python",
   "pygments_lexer": "ipython3",
   "version": "3.11.7"
  }
 },
 "nbformat": 4,
 "nbformat_minor": 5
}
