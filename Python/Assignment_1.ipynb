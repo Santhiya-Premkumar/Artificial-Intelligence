{
 "cells": [
  {
   "cell_type": "code",
   "execution_count": 1,
   "id": "d88dd24a-4932-4c07-ac45-c6c03e448a33",
   "metadata": {},
   "outputs": [
    {
     "name": "stdout",
     "output_type": "stream",
     "text": [
      "Hope AI\n"
     ]
    }
   ],
   "source": [
    "# Assignment 1:\n",
    "#print Statement\n",
    "print(\"Hope AI\")"
   ]
  },
  {
   "cell_type": "code",
   "execution_count": 3,
   "id": "66d26ddf-57c5-46ba-ac5f-54e2df5867e4",
   "metadata": {},
   "outputs": [
    {
     "name": "stdin",
     "output_type": "stream",
     "text": [
      "Enter your institute name? : HOPE AI\n"
     ]
    }
   ],
   "source": [
    "# Buy input \n",
    "Name = input(\"Enter your institute name? :\")"
   ]
  },
  {
   "cell_type": "code",
   "execution_count": 4,
   "id": "b266b6e8-e335-4870-87e9-c1edcbd68adf",
   "metadata": {},
   "outputs": [
    {
     "name": "stdin",
     "output_type": "stream",
     "text": [
      "Enter your name: Santhiya\n",
      "Enter your age: 29\n",
      "Enter your school name: B.H.S.SCHOOL\n",
      "Enter your drgree: B.E(CSE)\n"
     ]
    }
   ],
   "source": [
    "# Buy inputs\n",
    "u_name=input(\"Enter your name:\")\n",
    "age=int(input(\"Enter your age:\"))\n",
    "s_name=input(\"Enter your school name:\")\n",
    "degree=input(\"Enter your drgree:\")"
   ]
  },
  {
   "cell_type": "code",
   "execution_count": 5,
   "id": "5056102f-14d9-4acd-b4a8-f1b5110f490e",
   "metadata": {},
   "outputs": [
    {
     "name": "stdout",
     "output_type": "stream",
     "text": [
      "a= 43\n",
      "b= 34\n",
      "add= 77\n"
     ]
    }
   ],
   "source": [
    "#add - static values\n",
    "a= 43\n",
    "print(\"a=\",a)\n",
    "b= 34\n",
    "print(\"b=\",b)\n",
    "add=a+b\n",
    "print(\"add=\",add)"
   ]
  },
  {
   "cell_type": "code",
   "execution_count": 6,
   "id": "afab5ca8-cb7e-4fed-863b-c6927e78f4aa",
   "metadata": {},
   "outputs": [
    {
     "name": "stdout",
     "output_type": "stream",
     "text": [
      "a= 43\n",
      "b= 34\n",
      "Sub= 9\n"
     ]
    }
   ],
   "source": [
    "#Sub\n",
    "a= 43\n",
    "print(\"a=\",a)\n",
    "b= 34\n",
    "print(\"b=\",b)\n",
    "add=a-b\n",
    "print(\"Sub=\",add)"
   ]
  },
  {
   "cell_type": "code",
   "execution_count": 7,
   "id": "21de75be-7be1-4816-9ebf-d177f63e7c8f",
   "metadata": {},
   "outputs": [
    {
     "name": "stdout",
     "output_type": "stream",
     "text": [
      "a= 63\n",
      "b= 97\n",
      "mul= 6111\n"
     ]
    }
   ],
   "source": [
    "#Mul\n",
    "a= 63\n",
    "print(\"a=\",a)\n",
    "b= 97\n",
    "print(\"b=\",b)\n",
    "add=a*b\n",
    "print(\"mul=\",add)"
   ]
  },
  {
   "cell_type": "code",
   "execution_count": 15,
   "id": "2037fef2-cc00-4e9e-81f8-b1bb66a7dc1b",
   "metadata": {},
   "outputs": [
    {
     "name": "stdout",
     "output_type": "stream",
     "text": [
      "a= 76\n",
      "b= 31\n",
      "division= 2.4516129032258065\n"
     ]
    }
   ],
   "source": [
    "#Divide\n",
    "a= 76\n",
    "print(\"a=\",a)\n",
    "b= 31\n",
    "print(\"b=\",b)\n",
    "div=a/b\n",
    "print(\"division=\",div)"
   ]
  },
  {
   "cell_type": "code",
   "execution_count": 17,
   "id": "45c7ab9a-33b6-426e-80b3-aa52f067393f",
   "metadata": {},
   "outputs": [
    {
     "name": "stdout",
     "output_type": "stream",
     "text": [
      "a= 76\n",
      "b= 31\n",
      "Floor Div= 2\n"
     ]
    }
   ],
   "source": [
    "# Floor Division  -- Round Off\n",
    "a= 76\n",
    "print(\"a=\",a)\n",
    "b= 31\n",
    "print(\"b=\",b)\n",
    "#f_div=a//b\n",
    "f_div=int(a/b)\n",
    "print(\"Floor Div=\",f_div)"
   ]
  },
  {
   "cell_type": "code",
   "execution_count": 12,
   "id": "7c5fc33a-669d-447f-b1cc-01c6d158936d",
   "metadata": {},
   "outputs": [
    {
     "name": "stdout",
     "output_type": "stream",
     "text": [
      "a= 76\n",
      "b= 31\n",
      "Modulo= 14\n"
     ]
    }
   ],
   "source": [
    "#Modulo  -- Reminder Value\n",
    "a= 76\n",
    "print(\"a=\",a)\n",
    "b= 31\n",
    "print(\"b=\",b)\n",
    "Mod=a%b\n",
    "print(\"Modulo=\",Mod)"
   ]
  },
  {
   "cell_type": "code",
   "execution_count": 13,
   "id": "ed762fb6-e22b-4dad-b1a5-5ee2788833b2",
   "metadata": {},
   "outputs": [
    {
     "name": "stdout",
     "output_type": "stream",
     "text": [
      "a= 4\n",
      "b= 4\n",
      "Power= 256\n"
     ]
    }
   ],
   "source": [
    "#Power\n",
    "a= 4\n",
    "print(\"a=\",a)\n",
    "b= 4\n",
    "print(\"b=\",b)\n",
    "Power=pow(a,b)\n",
    "print(\"Power=\",Power)\n"
   ]
  },
  {
   "cell_type": "code",
   "execution_count": null,
   "id": "b66afa41-7dcc-4f31-ad87-586863ec43af",
   "metadata": {},
   "outputs": [],
   "source": []
  }
 ],
 "metadata": {
  "kernelspec": {
   "display_name": "Python 3 (ipykernel)",
   "language": "python",
   "name": "python3"
  },
  "language_info": {
   "codemirror_mode": {
    "name": "ipython",
    "version": 3
   },
   "file_extension": ".py",
   "mimetype": "text/x-python",
   "name": "python",
   "nbconvert_exporter": "python",
   "pygments_lexer": "ipython3",
   "version": "3.11.7"
  }
 },
 "nbformat": 4,
 "nbformat_minor": 5
}
