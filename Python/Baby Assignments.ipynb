{
 "cells": [
  {
   "cell_type": "code",
   "execution_count": 1,
   "id": "ce9d72cb-7ecc-4f73-8c8c-4681a32effec",
   "metadata": {},
   "outputs": [
    {
     "name": "stdout",
     "output_type": "stream",
     "text": [
      "Welcome to Assignment-1\n"
     ]
    }
   ],
   "source": [
    "# 1\n",
    "print(\"Welcome to Assignment-1\")"
   ]
  },
  {
   "cell_type": "code",
   "execution_count": 2,
   "id": "84391046-e2db-4758-bcea-6d4bcbcdbeb4",
   "metadata": {},
   "outputs": [
    {
     "name": "stdout",
     "output_type": "stream",
     "text": [
      "num1= 10\n",
      "num2= 30\n",
      "add = 40\n"
     ]
    }
   ],
   "source": [
    "# 2\n",
    "num1=10\n",
    "print(\"num1=\",num1)\n",
    "num2=30\n",
    "print(\"num2=\",num2)\n",
    "add=num1+num2\n",
    "print(\"add =\",add)"
   ]
  },
  {
   "cell_type": "code",
   "execution_count": 13,
   "id": "ac55bde4-8b28-4198-b527-88724acb9c86",
   "metadata": {},
   "outputs": [
    {
     "name": "stdin",
     "output_type": "stream",
     "text": [
      "num1= 10\n",
      "num2= 30\n"
     ]
    },
    {
     "name": "stdout",
     "output_type": "stream",
     "text": [
      "add = 40\n"
     ]
    }
   ],
   "source": [
    "# 2\n",
    "num1=int(input(\"num1=\"))\n",
    "#print(\"num1=\",num1)\n",
    "num2=int(input(\"num2=\"))\n",
    "#print(\"num2=\",num2)\n",
    "add=num1+num2\n",
    "print(\"add =\",add)"
   ]
  },
  {
   "cell_type": "code",
   "execution_count": 1,
   "id": "8a1bafd8-3eb7-4272-93e5-9e3eff948bb5",
   "metadata": {},
   "outputs": [
    {
     "name": "stdin",
     "output_type": "stream",
     "text": [
      "Enter the BMI Index: 34\n"
     ]
    },
    {
     "name": "stdout",
     "output_type": "stream",
     "text": [
      "Over Weight\n"
     ]
    }
   ],
   "source": [
    "# 3 #Body Mass Index\n",
    "Weight=int(input(\"Enter the BMI Index:\"))\n",
    "if(Weight<30):\n",
    "    print(\"Under Weight\")\n",
    "else:\n",
    "    print(\"Over Weight\")"
   ]
  },
  {
   "cell_type": "code",
   "execution_count": 10,
   "id": "caecda18-655b-4221-8f1c-1cb256ebcf19",
   "metadata": {},
   "outputs": [
    {
     "name": "stdout",
     "output_type": "stream",
     "text": [
      "14\n",
      "34\n",
      "54\n",
      "74\n"
     ]
    }
   ],
   "source": [
    "# Example\n",
    "lists=[14,34,54,74]\n",
    "for u_weight in lists:\n",
    "    print(u_weight)\n"
   ]
  },
  {
   "cell_type": "code",
   "execution_count": 11,
   "id": "21c6e127-e178-41c2-986b-38764a670739",
   "metadata": {},
   "outputs": [
    {
     "name": "stdout",
     "output_type": "stream",
     "text": [
      "Under Weight\n",
      "Normal\n",
      "Over Weight\n",
      "Obses\n"
     ]
    }
   ],
   "source": [
    "# Example\n",
    "for u_weight in lists:\n",
    "    if(u_weight<20):\n",
    "        print(\"Under Weight\")\n",
    "    elif(u_weight<50):\n",
    "        print(\"Normal\")\n",
    "    elif(u_weight<60):\n",
    "        print(\"Over Weight\")\n",
    "else:\n",
    "    print(\"Obses\")"
   ]
  },
  {
   "cell_type": "code",
   "execution_count": null,
   "id": "12899445-0b9d-4008-92dc-e685d6c7afe2",
   "metadata": {},
   "outputs": [],
   "source": []
  }
 ],
 "metadata": {
  "kernelspec": {
   "display_name": "Python 3 (ipykernel)",
   "language": "python",
   "name": "python3"
  },
  "language_info": {
   "codemirror_mode": {
    "name": "ipython",
    "version": 3
   },
   "file_extension": ".py",
   "mimetype": "text/x-python",
   "name": "python",
   "nbconvert_exporter": "python",
   "pygments_lexer": "ipython3",
   "version": "3.11.7"
  }
 },
 "nbformat": 4,
 "nbformat_minor": 5
}
