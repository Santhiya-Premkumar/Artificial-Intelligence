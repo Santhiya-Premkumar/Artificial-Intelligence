{
 "cells": [
  {
   "cell_type": "code",
   "execution_count": 9,
   "id": "fcf49b07-f99f-421d-b6fd-80626bc00098",
   "metadata": {},
   "outputs": [],
   "source": [
    "# Create a class and function, and list out the items in the list\n",
    "\n",
    "def Subfields():\n",
    "    SubfieldsInAI=[\"Sub-fields in AI are:\",\"Machine Learning\",\"Neural Networks\",\"Vision\",\"Robotics\",\"Speech Processing\",\"Natural Language Processing\"]\n",
    "    for Sub_fieldsInAI in SubfieldsInAI:\n",
    "       fields = Sub_fieldsInAI\n",
    "       print(fields)\n",
    "    #return fields\n"
   ]
  },
  {
   "cell_type": "code",
   "execution_count": 11,
   "id": "31afb2a1-cbdc-4802-a532-4271783b90ea",
   "metadata": {},
   "outputs": [
    {
     "name": "stdout",
     "output_type": "stream",
     "text": [
      "Sub-fields in AI are:\n",
      "Machine Learning\n",
      "Neural Networks\n",
      "Vision\n",
      "Robotics\n",
      "Speech Processing\n",
      "Natural Language Processing\n"
     ]
    }
   ],
   "source": [
    "Subfields()"
   ]
  },
  {
   "cell_type": "code",
   "execution_count": null,
   "id": "eb677f79-fa96-4d0d-b159-02b38a6c8239",
   "metadata": {},
   "outputs": [],
   "source": [
    "# In [17]: # Create a function that checks whether the given number is Odd or Even\n",
    "# OddEven.OddEven()"
   ]
  },
  {
   "cell_type": "code",
   "execution_count": 15,
   "id": "8a550ce7-6260-4c54-8dac-8a5938d40f5b",
   "metadata": {},
   "outputs": [],
   "source": [
    "def OddEven():\n",
    "    num=int(input(\"Enter the Number:\"))\n",
    "    if(num%2==0):\n",
    "        print( num,\"is even number\")\n",
    "    else:\n",
    "        print(num,\"Number is odd number\")\n"
   ]
  },
  {
   "cell_type": "code",
   "execution_count": 16,
   "id": "fbaf103c-8817-4215-ac4c-4424f46e687c",
   "metadata": {},
   "outputs": [
    {
     "name": "stdin",
     "output_type": "stream",
     "text": [
      "Enter the Number: 52452\n"
     ]
    },
    {
     "name": "stdout",
     "output_type": "stream",
     "text": [
      "52452 is even number\n"
     ]
    }
   ],
   "source": [
    "OddEven()"
   ]
  },
  {
   "cell_type": "code",
   "execution_count": null,
   "id": "57f61319-4f51-4135-b0c9-e990805b9e4f",
   "metadata": {},
   "outputs": [],
   "source": [
    ": # Create a function that tells elegibility of marriage for male and female according to their age limit like 21 for male and 18 for female\n",
    "Your Gender:Male\n",
    "Your Age:20\n",
    "NOT ELIGIBLE"
   ]
  },
  {
   "cell_type": "code",
   "execution_count": 40,
   "id": "151234ef-e033-4865-b225-22f6dd96cc55",
   "metadata": {},
   "outputs": [],
   "source": [
    "def marriageEligible():\n",
    "    gender=input(\"Your Gender:\")\n",
    "    age=int(input(\"Your Age:\"))\n",
    "    if((gender==\"male\") and (age<25)):\n",
    "        print(\"NOT ELIGIBLE\") "
   ]
  },
  {
   "cell_type": "code",
   "execution_count": 42,
   "id": "bedf44d0-b27b-4c87-9d24-93ee84b60ebb",
   "metadata": {},
   "outputs": [
    {
     "name": "stdin",
     "output_type": "stream",
     "text": [
      "Your Gender: male\n",
      "Your Age: 22\n"
     ]
    },
    {
     "name": "stdout",
     "output_type": "stream",
     "text": [
      "NOT ELIGIBLE\n"
     ]
    }
   ],
   "source": [
    "marriageEligible()"
   ]
  },
  {
   "cell_type": "code",
   "execution_count": 58,
   "id": "9967fb9e-851e-4076-8e83-61b4ec0f2c82",
   "metadata": {},
   "outputs": [],
   "source": [
    "#male age= 25 & Female = 21\n",
    "def Mrj_Eligible():\n",
    "    gender=input(\"Your Gender:\")\n",
    "    age=int(input(\"Your Age:\"))\n",
    "    if((gender==\"male\") and (age<25)):\n",
    "        print(\"NOT ELIGIBLE\") \n",
    "    elif((gender==\"female\") and (age<21)):\n",
    "        print(\"NOT ELIGIBLE\") \n",
    "    else:\n",
    "         print(\"ELIGIBLE\") "
   ]
  },
  {
   "cell_type": "code",
   "execution_count": 56,
   "id": "d9eea299-059e-4f47-bc20-0252ef116683",
   "metadata": {},
   "outputs": [
    {
     "name": "stdin",
     "output_type": "stream",
     "text": [
      "Your Gender: female\n",
      "Your Age: 22\n"
     ]
    },
    {
     "name": "stdout",
     "output_type": "stream",
     "text": [
      "ELIGIBLE\n"
     ]
    }
   ],
   "source": [
    "def Mrj_Eligible()"
   ]
  },
  {
   "cell_type": "code",
   "execution_count": 127,
   "id": "2af264f7-d231-42f4-80e5-04e1ac736bde",
   "metadata": {},
   "outputs": [],
   "source": [
    "#male age= 25 & Female = 21-- IF ELSE\n",
    "def Mrj_Eligible_IFELSE():\n",
    "    gender=input(\"Your Gender:\")\n",
    "    age=int(input(\"Your Age:\"))\n",
    "    if(gender==\"male\") and (age<=25) or (gender==\"female\") and (age<=21):\n",
    "        print(\"NOT ELIGIBLE\")      \n",
    "    else:\n",
    "         print(\"ELIGIBLE\") "
   ]
  },
  {
   "cell_type": "code",
   "execution_count": 129,
   "id": "7a3bb769-18e7-47a1-8b3e-d803d1b96d45",
   "metadata": {},
   "outputs": [
    {
     "name": "stdin",
     "output_type": "stream",
     "text": [
      "Your Gender: male\n",
      "Your Age: 19\n"
     ]
    },
    {
     "name": "stdout",
     "output_type": "stream",
     "text": [
      "NOT ELIGIBLE\n"
     ]
    }
   ],
   "source": [
    "Mrj_Eligible_IFELSE()"
   ]
  },
  {
   "cell_type": "code",
   "execution_count": null,
   "id": "04ae3ada-8d21-4b59-b200-8a721e13c398",
   "metadata": {},
   "outputs": [],
   "source": [
    "# calculate the percentage of your 10th mark"
   ]
  },
  {
   "cell_type": "code",
   "execution_count": 110,
   "id": "c596604d-fc96-4c5f-b6df-470aa602ab4f",
   "metadata": {},
   "outputs": [],
   "source": [
    "def percentage():\n",
    "    sub1=int(input(\"Subject1:\"))\n",
    "    sub2=int(input(\"Subject2:\"))\n",
    "    sub3=int(input(\"Subject3:\"))\n",
    "    sub4=int(input(\"Subject4:\"))\n",
    "    sub5=int(input(\"Subject5:\"))\n",
    "    total=sub1+sub2+sub3+sub4+sub5\n",
    "    Percentage=(total*100)/500\n",
    "    print(\"total:\",total)\n",
    "    print(\"Percentage:\",Percentage)"
   ]
  },
  {
   "cell_type": "code",
   "execution_count": 111,
   "id": "fb3389fc-b9de-4085-a915-dfc5f334a035",
   "metadata": {},
   "outputs": [
    {
     "name": "stdin",
     "output_type": "stream",
     "text": [
      "Subject1: 98\n",
      "Subject2: 87\n",
      "Subject3: 95\n",
      "Subject4: 95\n",
      "Subject5: 93\n"
     ]
    },
    {
     "name": "stdout",
     "output_type": "stream",
     "text": [
      "total: 468\n",
      "Percentage: 93.6\n"
     ]
    }
   ],
   "source": [
    "percentage()"
   ]
  },
  {
   "cell_type": "code",
   "execution_count": null,
   "id": "38dec80e-4241-4e40-be08-37f4b626dbae",
   "metadata": {},
   "outputs": [],
   "source": [
    "#print area and perimeter of triangle using class and functions"
   ]
  },
  {
   "cell_type": "code",
   "execution_count": 108,
   "id": "e304a16b-85a9-42b5-b731-06471a0fad14",
   "metadata": {},
   "outputs": [],
   "source": [
    "def triangle():\n",
    "    a_height=int(input(\"Height\"))\n",
    "    a_breadth=int(input(\"Breadth\"))\n",
    "    area_Triangle=(a_height*a_breadth)/2\n",
    "    print(\"Area of Triangle:\",area_Triangle)\n",
    "    p_height1=int(input(\"Height1\"))\n",
    "    p_height2=int(input(\"Height2\"))\n",
    "    p_Breadth=int(input(\"Breadth\"))\n",
    "    perimeter=p_height1+p_height2+p_Breadth\n",
    "    print(\"Perimeter of Triangle\",perimeter)\n"
   ]
  },
  {
   "cell_type": "code",
   "execution_count": 109,
   "id": "be31c5ff-a4f5-446b-ac51-2af629df2299",
   "metadata": {},
   "outputs": [
    {
     "name": "stdin",
     "output_type": "stream",
     "text": [
      "Height 32\n",
      "Breadth 34\n"
     ]
    },
    {
     "name": "stdout",
     "output_type": "stream",
     "text": [
      "Area of Triangle: 544.0\n"
     ]
    },
    {
     "name": "stdin",
     "output_type": "stream",
     "text": [
      "Height1 2\n",
      "Height2 4\n",
      "Breadth 4\n"
     ]
    },
    {
     "name": "stdout",
     "output_type": "stream",
     "text": [
      "Perimeter of Triangle 10\n"
     ]
    }
   ],
   "source": [
    "triangle()"
   ]
  },
  {
   "cell_type": "code",
   "execution_count": null,
   "id": "1ddaadce-a07b-4d03-b61e-00f00c8294bf",
   "metadata": {},
   "outputs": [],
   "source": []
  }
 ],
 "metadata": {
  "kernelspec": {
   "display_name": "Python 3 (ipykernel)",
   "language": "python",
   "name": "python3"
  },
  "language_info": {
   "codemirror_mode": {
    "name": "ipython",
    "version": 3
   },
   "file_extension": ".py",
   "mimetype": "text/x-python",
   "name": "python",
   "nbconvert_exporter": "python",
   "pygments_lexer": "ipython3",
   "version": "3.11.7"
  }
 },
 "nbformat": 4,
 "nbformat_minor": 5
}
